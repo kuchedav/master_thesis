{
 "cells": [
  {
   "cell_type": "markdown",
   "metadata": {},
   "source": [
    "# Filter for buildings"
   ]
  },
  {
   "cell_type": "code",
   "execution_count": 1,
   "metadata": {},
   "outputs": [],
   "source": [
    "import sys\n",
    "sys.path.append(\"/Users/davidkuchelmeister/Documents/Studium - Master/Master Thesis/dev/bin\")\n",
    "from ImageVault import ImageVault\n",
    "\n",
    "# map\n",
    "img_path = \"/Users/davidkuchelmeister/Documents/Studium - Master/Master Thesis/dev/data/swissimage_latest.tif\"\n",
    "imgvault = ImageVault(path=img_path)\n",
    "imgvault.scale_image(0.5)\n",
    "\n",
    "map_path = \"/Users/davidkuchelmeister/Documents/Studium - Master/Master Thesis/dev/data/pk10krel_2017.tif\"\n",
    "mapvault = ImageVault(path=map_path)\n",
    "\n",
    "tile_size = 1000\n",
    "mapvault.crop_into_tiles(tile_size)\n",
    "imgvault.crop_into_tiles(tile_size)"
   ]
  },
  {
   "cell_type": "code",
   "execution_count": 2,
   "metadata": {},
   "outputs": [],
   "source": [
    "import pandas"
   ]
  },
  {
   "cell_type": "code",
   "execution_count": 3,
   "metadata": {},
   "outputs": [],
   "source": [
    "from geopy.geocoders import Nominatim"
   ]
  },
  {
   "cell_type": "code",
   "execution_count": 4,
   "metadata": {},
   "outputs": [],
   "source": [
    "nom = Nominatim(user_agent=\"Bottleneckopener\")"
   ]
  },
  {
   "cell_type": "code",
   "execution_count": 5,
   "metadata": {},
   "outputs": [
    {
     "name": "stdout",
     "output_type": "stream",
     "text": [
      "Schwerzenbach, Bezirk Uster, Zürich, 8603, Switzerland\n",
      "47.3815017 8.6523009\n"
     ]
    }
   ],
   "source": [
    "n = nom.geocode(\"Schwerzenbach\")\n",
    "print(n)\n",
    "print(n.latitude,n.longitude)"
   ]
  },
  {
   "cell_type": "code",
   "execution_count": 6,
   "metadata": {},
   "outputs": [
    {
     "data": {
      "text/plain": [
       "{'place_id': 235461024,\n",
       " 'licence': 'Data © OpenStreetMap contributors, ODbL 1.0. https://osm.org/copyright',\n",
       " 'osm_type': 'relation',\n",
       " 'osm_id': 1682205,\n",
       " 'boundingbox': ['47.3695581', '47.3938096', '8.6423402', '8.6700976'],\n",
       " 'lat': '47.3815017',\n",
       " 'lon': '8.6523009',\n",
       " 'display_name': 'Schwerzenbach, Bezirk Uster, Zürich, 8603, Switzerland',\n",
       " 'class': 'boundary',\n",
       " 'type': 'administrative',\n",
       " 'importance': 0.3823437491030711,\n",
       " 'icon': 'https://nominatim.openstreetmap.org/images/mapicons/poi_boundary_administrative.p.20.png'}"
      ]
     },
     "execution_count": 6,
     "metadata": {},
     "output_type": "execute_result"
    }
   ],
   "source": [
    "n.raw"
   ]
  },
  {
   "cell_type": "code",
   "execution_count": 7,
   "metadata": {},
   "outputs": [
    {
     "data": {
      "text/plain": [
       "Location(10, In der Höh, Volketswil, Bezirk Uster, Zürich, 8604, Switzerland, (47.384253099999995, 8.667124592131884, 0.0))"
      ]
     },
     "execution_count": 7,
     "metadata": {},
     "output_type": "execute_result"
    }
   ],
   "source": [
    "s = \"in der Höh 10, Volketswil, Zürich, Switzerland\"\n",
    "nom.geocode(s)"
   ]
  },
  {
   "cell_type": "code",
   "execution_count": 8,
   "metadata": {},
   "outputs": [
    {
     "data": {
      "text/plain": [
       "['__aenter__',\n",
       " '__aexit__',\n",
       " '__class__',\n",
       " '__delattr__',\n",
       " '__dict__',\n",
       " '__dir__',\n",
       " '__doc__',\n",
       " '__enter__',\n",
       " '__eq__',\n",
       " '__exit__',\n",
       " '__format__',\n",
       " '__ge__',\n",
       " '__getattribute__',\n",
       " '__gt__',\n",
       " '__hash__',\n",
       " '__init__',\n",
       " '__init_subclass__',\n",
       " '__le__',\n",
       " '__lt__',\n",
       " '__module__',\n",
       " '__ne__',\n",
       " '__new__',\n",
       " '__reduce__',\n",
       " '__reduce_ex__',\n",
       " '__repr__',\n",
       " '__setattr__',\n",
       " '__sizeof__',\n",
       " '__str__',\n",
       " '__subclasshook__',\n",
       " '__weakref__',\n",
       " '_adapter_error_handler',\n",
       " '_call_geocoder',\n",
       " '_coerce_point_to_string',\n",
       " '_format_bounding_box',\n",
       " '_geocoder_exception_handler',\n",
       " '_parse_json',\n",
       " 'api_path',\n",
       " 'geocode',\n",
       " 'reverse']"
      ]
     },
     "execution_count": 8,
     "metadata": {},
     "output_type": "execute_result"
    }
   ],
   "source": [
    "import geopy\n",
    "dir(geopy.MapBox)"
   ]
  },
  {
   "cell_type": "code",
   "execution_count": null,
   "metadata": {},
   "outputs": [],
   "source": []
  }
 ],
 "metadata": {
  "kernelspec": {
   "display_name": "Python 3",
   "language": "python",
   "name": "python3"
  },
  "language_info": {
   "codemirror_mode": {
    "name": "ipython",
    "version": 3
   },
   "file_extension": ".py",
   "mimetype": "text/x-python",
   "name": "python",
   "nbconvert_exporter": "python",
   "pygments_lexer": "ipython3",
   "version": "3.8.5"
  }
 },
 "nbformat": 4,
 "nbformat_minor": 4
}
