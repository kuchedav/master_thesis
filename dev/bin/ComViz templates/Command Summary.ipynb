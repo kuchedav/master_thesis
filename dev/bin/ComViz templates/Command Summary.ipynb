{
 "cells": [
  {
   "cell_type": "markdown",
   "metadata": {},
   "source": [
    "# Plotting"
   ]
  },
  {
   "cell_type": "code",
   "execution_count": null,
   "metadata": {},
   "outputs": [],
   "source": []
  },
  {
   "cell_type": "code",
   "execution_count": null,
   "metadata": {},
   "outputs": [],
   "source": [
    "import matplotlib.pyplot as plt\n",
    "%matplotlib inline\n",
    "\n",
    "# grey scale\n",
    "plt.imshow(im,cmap=\"gray\")"
   ]
  },
  {
   "cell_type": "code",
   "execution_count": null,
   "metadata": {},
   "outputs": [],
   "source": [
    "# covolution\n",
    "# we need to reverse the picture before convolving it\n",
    "# rolling average\n",
    "kernel_avg = [np.repeat(0.2,5)]\n",
    "ab = scipy.ndimage.convolve(an,kernel_avg[::-1], mode='constant', cval=0.0)\n",
    "# derivation\n",
    "kernel = np.array([[-1.0,1.0]])\n",
    "ad = scipy.ndimage.convolve(ab,kernel[::-1,::-1])\n",
    "\n",
    "# Gaussian smoother\n",
    "imf = skimage.filters.gaussian(im, sigma=11, mode='constant', cval=0.0)\n",
    "\n",
    "# Kenny edge filter\n",
    "import skimage.feature\n",
    "im_edges = skimage.feature.canny(im)"
   ]
  },
  {
   "cell_type": "code",
   "execution_count": null,
   "metadata": {},
   "outputs": [],
   "source": []
  },
  {
   "cell_type": "code",
   "execution_count": null,
   "metadata": {},
   "outputs": [],
   "source": []
  }
 ],
 "metadata": {
  "kernelspec": {
   "display_name": "Python 3",
   "language": "python",
   "name": "python3"
  },
  "language_info": {
   "codemirror_mode": {
    "name": "ipython",
    "version": 3
   },
   "file_extension": ".py",
   "mimetype": "text/x-python",
   "name": "python",
   "nbconvert_exporter": "python",
   "pygments_lexer": "ipython3",
   "version": "3.8.5"
  }
 },
 "nbformat": 4,
 "nbformat_minor": 4
}
