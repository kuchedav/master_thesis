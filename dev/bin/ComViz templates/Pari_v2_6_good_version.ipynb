{
 "cells": [
  {
   "cell_type": "markdown",
   "metadata": {
    "colab_type": "text",
    "id": "KcvCOc5KlmY2"
   },
   "source": [
    "# Homework Assignment: Texture Recognition with ConvNets\n",
    "# Introduction\n",
    "In this exercise, you should design and train a convolutional neural network to classify the pixels of an image into the 47 classes of the describable texture dataset (dtd).\n",
    "\n",
    "# [Data Preparation](https://colab.research.google.com/drive/18XgcJehCK8L0SxLohliH0uB4XVP3Ecd7#scrollTo=DrvyJv4G3-uA)\n",
    "\n",
    "- The tools in the file dtd_loaded.py will help you to prepare the data set. (see the exercise for week 09). \n",
    "- First of all the data set is split threeways into a train, validation and test data set, the split is the same as used in some publications that also use the data set, so we will be able to compare the results with other approaches.\n",
    "\n",
    "- For each data set \n",
    " - we want to organise the images and labels into files, so that the all the image files have the same size and the labels are also contained in files. For that we extract the center region of each original image, convert it to grayscale and save it in a new image file that is numbered consecutively. We also construct an additional image file for the pixelwise labels.\n",
    "\n",
    "# ConvNet Approaches\n",
    "The task is to implement two different fully convolutional neural networks and train and validate them on the data. For the first network a relatively simple FCN should be used that only uses convolutional layers of stride 1, but no downsampling of the data. The second network should use a some form of downsampling and upsampling.\n",
    "\n",
    "Use the train and validation data sets to tune your hyper parameters. This includes changing the number of layers or the sizes of the convolutional filters in the network.\n",
    "\n",
    "Finally run the networks on the test data set to compare the performance\n",
    "\n",
    "# Tips\n",
    "While you can try to train the network in a python notebook, you could also consider to run it as a standalone program.\n",
    "\n",
    "In both cases, you might want to use tensorboard for visualisation (will be quickly explained further in lesson 10)\n",
    "\n",
    "Start with a small network and see if it converges and then enlarge it by adding more layers etc.\n",
    "\n",
    "Test the network first with the example data sets from exercise 9"
   ]
  },
  {
   "cell_type": "markdown",
   "metadata": {
    "colab_type": "text",
    "id": "60JXjFQWFnuf"
   },
   "source": [
    "# FCNs for semantic segmentation\n",
    "\n",
    "In this exercise we will look at the basics how to build a fully convolutional network for semantic segmentation.\n",
    "\n",
    "## A first example"
   ]
  },
  {
   "cell_type": "code",
   "execution_count": 2,
   "metadata": {
    "colab": {
     "base_uri": "https://localhost:8080/",
     "height": 34
    },
    "colab_type": "code",
    "id": "20rwQnb3lmY3",
    "outputId": "37b785d3-7a02-4edd-d97f-1784021b8415"
   },
   "outputs": [],
   "source": [
    "#from google.colab import drive\n",
    "#drive.mount('/content/gdrive/')\n"
   ]
  },
  {
   "cell_type": "code",
   "execution_count": 3,
   "metadata": {
    "colab": {
     "base_uri": "https://localhost:8080/",
     "height": 34
    },
    "colab_type": "code",
    "id": "P3g49dg0sdGg",
    "outputId": "55417e0f-1657-41c6-a0d2-e561080c36ab"
   },
   "outputs": [],
   "source": [
    "#cd gdrive/\"My Drive\"/CompVIS_homework"
   ]
  },
  {
   "cell_type": "code",
   "execution_count": 1,
   "metadata": {
    "colab": {
     "base_uri": "https://localhost:8080/",
     "height": 34
    },
    "colab_type": "code",
    "id": "MFZwHeLtFnui",
    "outputId": "8b5d1064-a7d0-475f-cb99-1661e94109d8"
   },
   "outputs": [],
   "source": [
    "# install all needed packages\n",
    "from typing import Tuple\n",
    "import numpy as np\n",
    "import skimage.io\n",
    "import tensorflow.keras as keras\n",
    "from keras.utils import to_categorical\n",
    "from keras import regularizers\n",
    "from keras.activations import softmax\n",
    "from keras.layers import Conv2D, MaxPooling2D\n",
    "\n",
    "%matplotlib inline\n",
    "import matplotlib.pyplot as plt\n",
    "plt.rcParams['figure.figsize'] = [10, 10]\n",
    "#mpl.rcParams['figure.dpi']= 400\n",
    "\n",
    "import os "
   ]
  },
  {
   "cell_type": "code",
   "execution_count": 1,
   "metadata": {
    "colab": {
     "base_uri": "https://localhost:8080/",
     "height": 567
    },
    "colab_type": "code",
    "id": "wlTmozxeFnuv",
    "outputId": "0594ee66-578a-4406-cdb6-0f524a6114a0"
   },
   "outputs": [
    {
     "name": "stdout",
     "output_type": "stream",
     "text": [
      "[name: \"/device:CPU:0\"\n",
      "device_type: \"CPU\"\n",
      "memory_limit: 268435456\n",
      "locality {\n",
      "}\n",
      "incarnation: 4209249240739482604\n",
      ", name: \"/device:XLA_CPU:0\"\n",
      "device_type: \"XLA_CPU\"\n",
      "memory_limit: 17179869184\n",
      "locality {\n",
      "}\n",
      "incarnation: 17671433509072552222\n",
      "physical_device_desc: \"device: XLA_CPU device\"\n",
      "]\n"
     ]
    }
   ],
   "source": [
    "# check tensorflow installation to see if we have GPU support\n",
    "from tensorflow.python.client import device_lib\n",
    "print(device_lib.list_local_devices())"
   ]
  },
  {
   "cell_type": "code",
   "execution_count": 3,
   "metadata": {
    "colab": {
     "base_uri": "https://localhost:8080/",
     "height": 52
    },
    "colab_type": "code",
    "id": "S3m8W7PKt0Xg",
    "outputId": "d8bef44f-8ea9-4f18-f0a0-0002fb31916a"
   },
   "outputs": [
    {
     "name": "stdout",
     "output_type": "stream",
     "text": [
      "Directories dtd_train, dtd_val and dtd_test already exist at target location\n",
      "Remove the directories to download the data again\n"
     ]
    }
   ],
   "source": [
    "from dtd_loader import *\n",
    "download_and_convert()"
   ]
  },
  {
   "cell_type": "markdown",
   "metadata": {
    "colab_type": "text",
    "id": "SQUrc0QxFnu5"
   },
   "source": [
    "### Load real data\n",
    "Batch of data\n",
    "Training is usually done using a batch of data. For semantic segmentation, that will be a batch of image (patches)."
   ]
  },
  {
   "cell_type": "code",
   "execution_count": null,
   "metadata": {
    "colab": {},
    "colab_type": "code",
    "id": "KujZna1hFnu7"
   },
   "outputs": [],
   "source": []
  },
  {
   "cell_type": "markdown",
   "metadata": {
    "colab_type": "text",
    "id": "DrvyJv4G3-uA"
   },
   "source": [
    "# DATA PREPARATION"
   ]
  },
  {
   "cell_type": "code",
   "execution_count": 4,
   "metadata": {
    "colab": {},
    "colab_type": "code",
    "id": "HtlV2wDdlmZC"
   },
   "outputs": [],
   "source": [
    "def prepare_data(num_images:int, foldertype:str):#\n",
    "    nr_of_labels = 47\n",
    "    if foldertype not in ['train','test','val']: #\n",
    "        print('foldertype invalid!')#\n",
    "        return None#\n",
    "    else:\n",
    "        image_labels = []#\n",
    "        dtd_images = []#\n",
    "        for i in range(num_images):  # number of considered images\n",
    "            im = skimage.io.imread('dtd_'+foldertype+'/image_' + ('%05d' % i) + '.png') # load image\n",
    "            im = im.reshape(1, im.shape[0], im.shape[1], 1) # reshape image\n",
    "            lab = skimage.io.imread('dtd_'+foldertype+'/label_' + ('%05d' % i) + '.png') # load label\n",
    "            class_id = lab[0,0]\n",
    "            nr_of_pixels = (im.shape[1]-6)*(im.shape[2]-6)\n",
    "\n",
    "            label = np.concatenate([to_categorical(class_id, nr_of_labels).reshape(1, 1, nr_of_labels)\n",
    "                                    for _ in range(nr_of_pixels)], axis=1)\n",
    "            image_labels.append(label)\n",
    "            dtd_images.append(im.astype(np.float32) / 255.0)\n",
    "\n",
    "        labels = np.concatenate([label for label in image_labels], axis=0)\n",
    "        images = np.concatenate([im for im in dtd_images], axis=0)\n",
    "\n",
    "        return images, labels\n",
    "\n"
   ]
  },
  {
   "cell_type": "code",
   "execution_count": 5,
   "metadata": {
    "colab": {
     "base_uri": "https://localhost:8080/",
     "height": 390
    },
    "colab_type": "code",
    "id": "kU8VRnHrlmZO",
    "outputId": "e3d3dd8f-5c89-4475-ae86-4a9798a427c0"
   },
   "outputs": [
    {
     "data": {
      "text/plain": [
       "['C:\\\\Users\\\\steven.walker\\\\Desktop\\\\validation_data_500-batch_images.npy',\n",
       " 'dtd_test',\n",
       " '.DS_Store',\n",
       " 'Benny_assignment2.ipynb',\n",
       " 'GHOSHAL_COMPVIS_EX_2.ipynb',\n",
       " 'my_test_data_100-batch_images.npy',\n",
       " 'dtd_train',\n",
       " 'Pari_v2_3.ipynb',\n",
       " 'my_val_data_100-batch_images.npy',\n",
       " '__pycache__',\n",
       " 'David Solution.ipynb',\n",
       " 'C:\\\\Users\\\\steven.walker\\\\Desktop\\\\training_data_15-batch_images.npy',\n",
       " 'dtd_loader.py',\n",
       " '09-FCN for Semantic Segmentation.ipynb',\n",
       " 'C:\\\\Users\\\\steven.walker\\\\Desktop\\\\training_data_15-batch_labels.npy',\n",
       " 'dtd_val',\n",
       " 'C:\\\\Users\\\\steven.walker\\\\Desktop\\\\training_data_500-batch_images.npy',\n",
       " 'my_train_data_100-batch_images.npy',\n",
       " '.ipynb_checkpoints',\n",
       " 'Pari_v2_6_good_version.ipynb']"
      ]
     },
     "execution_count": 5,
     "metadata": {},
     "output_type": "execute_result"
    }
   ],
   "source": [
    "cwd = os.getcwd() # get current working directory \n",
    "os.listdir(cwd)"
   ]
  },
  {
   "cell_type": "code",
   "execution_count": 9,
   "metadata": {
    "colab": {},
    "colab_type": "code",
    "id": "wron1nmklmZR"
   },
   "outputs": [],
   "source": [
    "def save_data_chunks(batch_size):\n",
    "  data_types = ['test','train','val']\n",
    "  #batch_size = 250\n",
    "  for data_type in data_types:\n",
    "      print('Currently preparing', data_type, 'data with batch size',batch_size)\n",
    "      image_batch, label_batch = prepare_data(batch_size,'train') #set batch size, type of data to train\n",
    "      path_images = cwd+'/my_'+data_type+'_data_'+ str(batch_size) +'-batch_images.npy'\n",
    "      path_labels = cwd+'/my_'+data_type+'_data_'+ str(batch_size) +'-batch_labels.npy'\n",
    "      np.save(path_images, image_batch)\n",
    "      np.save(path_labels, label_batch)\n",
    "\n",
    "      print(image_batch.shape, label_batch.shape)\n",
    "      \n",
    "#save_data_chunks(batch_size =100)"
   ]
  },
  {
   "cell_type": "markdown",
   "metadata": {
    "colab_type": "text",
    "id": "IOpMWwCefzxU"
   },
   "source": [
    "# View Data"
   ]
  },
  {
   "cell_type": "code",
   "execution_count": 10,
   "metadata": {
    "colab": {
     "base_uri": "https://localhost:8080/",
     "height": 141
    },
    "colab_type": "code",
    "id": "XNQqju9LlmZE",
    "outputId": "3e280878-bf75-4c3f-99ff-2e5e9f3e0de3"
   },
   "outputs": [
    {
     "name": "stdout",
     "output_type": "stream",
     "text": [
      "sample_train_data\n",
      "(3, 128, 128, 1) float32 (3, 14884, 47) float32\n"
     ]
    },
    {
     "data": {
      "image/png": "[encoded data removed]",
      "text/plain": [
       "<Figure size 72x72 with 1 Axes>"
      ]
     },
     "metadata": {
      "needs_background": "light"
     },
     "output_type": "display_data"
    }
   ],
   "source": [
    "data_type = 'train'\n",
    "print('sample_'+data_type+'_data')\n",
    "im, lab = prepare_data(3,data_type)\n",
    "plt.figure(figsize = (1,1))\n",
    "plt.imshow(im[0].reshape(128,128), cmap='gray')\n",
    "print(im.shape, im.dtype,lab.shape, lab.dtype)"
   ]
  },
  {
   "cell_type": "code",
   "execution_count": 11,
   "metadata": {
    "colab": {
     "base_uri": "https://localhost:8080/",
     "height": 141
    },
    "colab_type": "code",
    "id": "41pTmi_jFnvM",
    "outputId": "f95f352b-f3f1-4475-9f74-61be6212792e"
   },
   "outputs": [
    {
     "name": "stdout",
     "output_type": "stream",
     "text": [
      "sample_test_data\n",
      "(3, 128, 128, 1) float32 (3, 14884, 47) float32\n"
     ]
    },
    {
     "data": {
      "image/png": "[encoded data removed]",
      "text/plain": [
       "<Figure size 72x72 with 1 Axes>"
      ]
     },
     "metadata": {
      "needs_background": "light"
     },
     "output_type": "display_data"
    }
   ],
   "source": [
    "\n",
    "data_type = 'test'\n",
    "print('sample_'+data_type+'_data')\n",
    "im, lab = prepare_data(3,data_type)\n",
    "plt.figure(figsize = (1,1))\n",
    "plt.imshow(im[0].reshape(128,128), cmap='gray')\n",
    "print(im.shape, im.dtype,lab.shape, lab.dtype)"
   ]
  },
  {
   "cell_type": "code",
   "execution_count": 12,
   "metadata": {
    "colab": {
     "base_uri": "https://localhost:8080/",
     "height": 141
    },
    "colab_type": "code",
    "id": "E90wUV3almZI",
    "outputId": "b2dbfbd4-4a75-4e14-aa94-fe258779c55f"
   },
   "outputs": [
    {
     "name": "stdout",
     "output_type": "stream",
     "text": [
      "sample_val_data\n",
      "(3, 128, 128, 1) float32 (3, 14884, 47) float32\n"
     ]
    },
    {
     "data": {
      "image/png": "[encoded data removed]",
      "text/plain": [
       "<Figure size 72x72 with 1 Axes>"
      ]
     },
     "metadata": {
      "needs_background": "light"
     },
     "output_type": "display_data"
    }
   ],
   "source": [
    "data_type = 'val'\n",
    "print('sample_'+data_type+'_data')\n",
    "im, lab = prepare_data(3,data_type)\n",
    "plt.figure(figsize = (1,1))\n",
    "plt.imshow(im[0].reshape(128,128), cmap='gray')\n",
    "print(im.shape, im.dtype,lab.shape, lab.dtype)"
   ]
  },
  {
   "cell_type": "code",
   "execution_count": null,
   "metadata": {
    "colab": {},
    "colab_type": "code",
    "id": "ndPZeVWxhdR2"
   },
   "outputs": [],
   "source": []
  },
  {
   "cell_type": "markdown",
   "metadata": {
    "colab_type": "text",
    "id": "A-KSWVxrFnvn"
   },
   "source": [
    "##  Define FCN (Fully Convolution Network)\n",
    "\n",
    "We will create a simple fully convolutional neural network for processing a batch of image patches"
   ]
  },
  {
   "cell_type": "code",
   "execution_count": 13,
   "metadata": {
    "colab": {},
    "colab_type": "code",
    "id": "axUlphcYFnvp"
   },
   "outputs": [],
   "source": [
    "def fcn_no_border(input_height:int, input_width:int) -> keras.Model:\n",
    "    \"\"\"\n",
    "    Create a simple fcn model for semantic segmentation with 47 classes\n",
    "    \n",
    "    based on fcn_simple_no_border  from  the notebook 09-FCN for Semantic Segmentation-ML\n",
    "    \"\"\"\n",
    "    nr_of_labels = 47\n",
    "    model = keras.Sequential()\n",
    "    \n",
    "    \n",
    "    # (used to define input shape on the first layers)\n",
    "    model.add(keras.layers.Layer(input_shape=(input_height , input_width, 1)))\n",
    "    \n",
    "    # add 3 convolutional layers with 3x3 filters\n",
    "    model.add(keras.layers.Convolution2D(filters=64, kernel_size=3, strides=1, padding='valid', activation='relu'))\n",
    "    model.add(keras.layers.Convolution2D(filters=26, kernel_size=3, strides=1, padding='valid', activation='relu'))\n",
    "    model.add(keras.layers.Convolution2D(filters=32, kernel_size=3, strides=1, padding='valid', activation='relu'))\n",
    "    \n",
    "    # go to logits which is the number of classes\n",
    "    model.add(keras.layers.Convolution2D(filters=nr_of_labels, kernel_size=1,activation = None))\n",
    "    \n",
    "    # reshape so that we have a sample for each pixel\n",
    "    model.add(keras.layers.Reshape(target_shape=((input_height-6) * (input_width-6), nr_of_labels)))\n",
    "    \n",
    "    # Softmax Activation\n",
    "    model.add(keras.layers.Activation('softmax'))\n",
    "    \n",
    "    return model\n",
    "  \n",
    "      \n"
   ]
  },
  {
   "cell_type": "code",
   "execution_count": null,
   "metadata": {
    "colab": {},
    "colab_type": "code",
    "id": "CMrriX3hFnvv"
   },
   "outputs": [],
   "source": []
  },
  {
   "cell_type": "markdown",
   "metadata": {
    "colab_type": "text",
    "id": "3IEv_AZilmZQ"
   },
   "source": [
    "# Load data"
   ]
  },
  {
   "cell_type": "code",
   "execution_count": 14,
   "metadata": {
    "colab": {},
    "colab_type": "code",
    "id": "eRSdX6BhlmZT"
   },
   "outputs": [],
   "source": [
    "#ls"
   ]
  },
  {
   "cell_type": "code",
   "execution_count": null,
   "metadata": {
    "colab": {},
    "colab_type": "code",
    "id": "QjTT5WZJ0B3h"
   },
   "outputs": [],
   "source": []
  },
  {
   "cell_type": "code",
   "execution_count": 15,
   "metadata": {
    "colab": {
     "base_uri": "https://localhost:8080/",
     "height": 34
    },
    "colab_type": "code",
    "id": "bP1iYcCvlmZW",
    "outputId": "6c5547a4-8bf3-4669-97c4-d30d6bfb243a"
   },
   "outputs": [
    {
     "data": {
      "text/plain": [
       "((100, 128, 128, 1), (100, 14884, 47))"
      ]
     },
     "execution_count": 15,
     "metadata": {},
     "output_type": "execute_result"
    }
   ],
   "source": [
    "batch_size = 100\n",
    "# train data\n",
    "data_type = 'train'\n",
    "image_train_data = np.load('my_'+data_type+'_data_'+str(batch_size)+'-batch_images.npy')\n",
    "image_train_labels = np.load('my_'+data_type+'_data_'+str(batch_size)+'-batch_labels.npy')\n",
    "image_train_data.shape,image_train_labels.shape"
   ]
  },
  {
   "cell_type": "code",
   "execution_count": 16,
   "metadata": {
    "colab": {
     "base_uri": "https://localhost:8080/",
     "height": 34
    },
    "colab_type": "code",
    "id": "zK4iLFi5lmZZ",
    "outputId": "a080ac03-24d7-4862-9b5b-d0b54ebd3f8c"
   },
   "outputs": [
    {
     "data": {
      "text/plain": [
       "((100, 128, 128, 1), (100, 14884, 47))"
      ]
     },
     "execution_count": 16,
     "metadata": {},
     "output_type": "execute_result"
    }
   ],
   "source": [
    "# val data\n",
    "data_type = 'val'\n",
    "image_val_data = np.load('my_'+data_type+'_data_'+str(batch_size)+'-batch_images.npy')\n",
    "image_val_labels = np.load('my_'+data_type+'_data_'+str(batch_size)+'-batch_labels.npy')\n",
    "image_val_data.shape,image_val_labels.shape"
   ]
  },
  {
   "cell_type": "code",
   "execution_count": 17,
   "metadata": {
    "colab": {
     "base_uri": "https://localhost:8080/",
     "height": 34
    },
    "colab_type": "code",
    "id": "ZqhK3PDwkrG7",
    "outputId": "3a2709a2-c3b6-4fdd-e9c6-880e507c3639"
   },
   "outputs": [
    {
     "data": {
      "text/plain": [
       "((100, 128, 128, 1), (100, 14884, 47))"
      ]
     },
     "execution_count": 17,
     "metadata": {},
     "output_type": "execute_result"
    }
   ],
   "source": [
    "# test data\n",
    "data_type = 'test'\n",
    "\n",
    "image_test_data = np.load('my_'+data_type+'_data_'+str(batch_size)+'-batch_images.npy')\n",
    "image_test_labels = np.load('my_'+data_type+'_data_'+str(batch_size)+'-batch_labels.npy')\n",
    "image_test_data.shape,image_test_labels.shape"
   ]
  },
  {
   "cell_type": "markdown",
   "metadata": {
    "colab_type": "text",
    "id": "6BiyIsBYFnwb"
   },
   "source": [
    "## Training with generators\n",
    "\n",
    "Reading the whole data set into memory is not always possible. There are different possibilities to that problem, one is to use the Dataset classes in the tensorflow backend. We will look at that a bit more in the next lecture. The other possibility is to use *generators* from python. A generator function to use for keras will generate a batch of data at the time. "
   ]
  },
  {
   "cell_type": "code",
   "execution_count": 18,
   "metadata": {
    "colab": {},
    "colab_type": "code",
    "id": "PUbpPWW4Fnwc"
   },
   "outputs": [],
   "source": [
    "# code from 09-FCN for Semantic Segmentation-ML\n",
    "def batch_generator(batch_size, height: int, width: int):\n",
    "    while True:\n",
    "        yield image_train_data, image_train_labels"
   ]
  },
  {
   "cell_type": "markdown",
   "metadata": {
    "colab_type": "text",
    "id": "tl0LzMTEFnwi"
   },
   "source": [
    "In order to use the generator, we use the ```model.fit_generator``` function. "
   ]
  },
  {
   "cell_type": "code",
   "execution_count": 19,
   "metadata": {
    "colab": {
     "base_uri": "https://localhost:8080/",
     "height": 463
    },
    "colab_type": "code",
    "id": "5ao1VbPgFnwl",
    "outputId": "76131497-af19-468a-fa42-241111f73fd6",
    "scrolled": true
   },
   "outputs": [
    {
     "name": "stdout",
     "output_type": "stream",
     "text": [
      "WARNING:tensorflow:From /Users/davidkuchelmeister/deepnexus/lib/python3.7/site-packages/tensorflow/python/ops/resource_variable_ops.py:435: colocate_with (from tensorflow.python.framework.ops) is deprecated and will be removed in a future version.\n",
      "Instructions for updating:\n",
      "Colocations handled automatically by placer.\n",
      "_________________________________________________________________\n",
      "Layer (type)                 Output Shape              Param #   \n",
      "=================================================================\n",
      "layer (Layer)                (None, 128, 128, 1)       0         \n",
      "_________________________________________________________________\n",
      "conv2d (Conv2D)              (None, 126, 126, 64)      640       \n",
      "_________________________________________________________________\n",
      "conv2d_1 (Conv2D)            (None, 124, 124, 26)      15002     \n",
      "_________________________________________________________________\n",
      "conv2d_2 (Conv2D)            (None, 122, 122, 32)      7520      \n",
      "_________________________________________________________________\n",
      "conv2d_3 (Conv2D)            (None, 122, 122, 47)      1551      \n",
      "_________________________________________________________________\n",
      "reshape (Reshape)            (None, 14884, 47)         0         \n",
      "_________________________________________________________________\n",
      "activation (Activation)      (None, 14884, 47)         0         \n",
      "=================================================================\n",
      "Total params: 24,713\n",
      "Trainable params: 24,713\n",
      "Non-trainable params: 0\n",
      "_________________________________________________________________\n"
     ]
    }
   ],
   "source": [
    "# code from 09-FCN for Semantic Segmentation-ML\n",
    "PATCH_HEIGHT = 128\n",
    "PATCH_WIDTH = 128\n",
    "BATCH_SIZE = 50\n",
    "EPOCHS = 2  ## very low\n",
    "STEPS_PER_EPOCHS = 2  ### very low\n",
    "model = fcn_no_border(PATCH_HEIGHT, PATCH_WIDTH)\n",
    "model.summary()\n"
   ]
  },
  {
   "cell_type": "code",
   "execution_count": 20,
   "metadata": {
    "colab": {
     "base_uri": "https://localhost:8080/",
     "height": 676
    },
    "colab_type": "code",
    "id": "bfpATI6E-_-f",
    "outputId": "58cc1366-eb1a-42e6-9c77-6298723f1d47"
   },
   "outputs": [
    {
     "name": "stdout",
     "output_type": "stream",
     "text": [
      "WARNING:tensorflow:From /Users/davidkuchelmeister/deepnexus/lib/python3.7/site-packages/tensorflow/python/ops/math_ops.py:3066: to_int32 (from tensorflow.python.ops.math_ops) is deprecated and will be removed in a future version.\n",
      "Instructions for updating:\n",
      "Use tf.cast instead.\n",
      "WARNING:tensorflow:From /Users/davidkuchelmeister/deepnexus/lib/python3.7/site-packages/tensorflow/python/ops/math_grad.py:102: div (from tensorflow.python.ops.math_ops) is deprecated and will be removed in a future version.\n",
      "Instructions for updating:\n",
      "Deprecated in favor of operator or tf.math.divide.\n",
      "Epoch 1/2\n",
      "100/100 [==============================] - 4s 42ms/sample - loss: 3.8438 - categorical_accuracy: 0.0299 - acc: 0.0299\n",
      "2/2 [==============================] - 31s 15s/step - loss: 3.8482 - categorical_accuracy: 0.0144 - acc: 0.0144 - val_loss: 3.8438 - val_categorical_accuracy: 0.0299 - val_acc: 0.0299\n",
      "Epoch 2/2\n",
      "100/100 [==============================] - 4s 36ms/sample - loss: 3.8378 - categorical_accuracy: 0.0300 - acc: 0.0300\n",
      "2/2 [==============================] - 28s 14s/step - loss: 3.8424 - categorical_accuracy: 0.0299 - acc: 0.0299 - val_loss: 3.8378 - val_categorical_accuracy: 0.0300 - val_acc: 0.0300\n"
     ]
    }
   ],
   "source": [
    "model.compile(optimizer='adam', loss='categorical_crossentropy', metrics=['categorical_accuracy','accuracy'])\n",
    "# model.compile(optimizer='adam', loss='binary_crossentropy', metrics=['accuracy'])\n",
    "\n",
    "history = model.fit_generator(\n",
    "        generator=batch_generator( BATCH_SIZE, PATCH_HEIGHT, PATCH_WIDTH),\n",
    "        epochs=EPOCHS,\n",
    "        verbose=1,\n",
    "        steps_per_epoch=STEPS_PER_EPOCHS,\n",
    "        shuffle=False,\n",
    "        callbacks=None,\n",
    "    validation_data=(image_val_data, image_val_labels)\n",
    ")"
   ]
  },
  {
   "cell_type": "markdown",
   "metadata": {
    "colab_type": "text",
    "id": "0ZOP3r4TFnww"
   },
   "source": [
    "## Plot training"
   ]
  },
  {
   "cell_type": "code",
   "execution_count": 21,
   "metadata": {
    "colab": {
     "base_uri": "https://localhost:8080/",
     "height": 230
    },
    "colab_type": "code",
    "id": "thdSky6QlmZp",
    "outputId": "377f69b5-350a-456e-acba-0fa831efb0c1"
   },
   "outputs": [
    {
     "data": {
      "text/plain": [
       "{'batch_size': None,\n",
       " 'epochs': 2,\n",
       " 'steps': 2,\n",
       " 'samples': 2,\n",
       " 'verbose': 1,\n",
       " 'do_validation': True,\n",
       " 'metrics': ['loss',\n",
       "  'categorical_accuracy',\n",
       "  'acc',\n",
       "  'val_loss',\n",
       "  'val_categorical_accuracy',\n",
       "  'val_acc']}"
      ]
     },
     "execution_count": 21,
     "metadata": {},
     "output_type": "execute_result"
    }
   ],
   "source": [
    "history.params"
   ]
  },
  {
   "cell_type": "code",
   "execution_count": 22,
   "metadata": {
    "colab": {
     "base_uri": "https://localhost:8080/",
     "height": 1225
    },
    "colab_type": "code",
    "id": "QDHXmcTaFnwz",
    "outputId": "c5404346-7196-45a9-b145-2f1032bbd8fa"
   },
   "outputs": [
    {
     "data": {
      "image/png": "[encoded data removed]",
      "text/plain": [
       "<Figure size 432x288 with 1 Axes>"
      ]
     },
     "metadata": {
      "needs_background": "light"
     },
     "output_type": "display_data"
    },
    {
     "data": {
      "image/png": "[encoded data removed]",
      "text/plain": [
       "<Figure size 432x288 with 1 Axes>"
      ]
     },
     "metadata": {
      "needs_background": "light"
     },
     "output_type": "display_data"
    }
   ],
   "source": [
    "# Plot training accuracy values\n",
    "plt.plot(history.history['categorical_accuracy'])\n",
    "plt.plot(history.history['val_categorical_accuracy'])\n",
    "\n",
    "plt.title('Model accuracy')\n",
    "plt.ylabel('Accuracy')\n",
    "plt.xlabel('Epoch')\n",
    "plt.legend(['Train','Val'])\n",
    "plt.show()\n",
    "\n",
    "# Plot training & validation loss values\n",
    "plt.plot(history.history['loss'])\n",
    "plt.plot(history.history['val_loss'])\n",
    "\n",
    "plt.title('Model loss')\n",
    "plt.ylabel('Loss')\n",
    "plt.xlabel('Epoch')\n",
    "plt.legend(['Train','Val'])\n",
    "plt.show()"
   ]
  },
  {
   "cell_type": "markdown",
   "metadata": {
    "colab_type": "text",
    "id": "FBzzjMZqFnw7"
   },
   "source": [
    "## Test model"
   ]
  },
  {
   "cell_type": "code",
   "execution_count": 23,
   "metadata": {
    "colab": {
     "base_uri": "https://localhost:8080/",
     "height": 230
    },
    "colab_type": "code",
    "id": "YULp5FHtm0ry",
    "outputId": "57fa8fac-b0d5-4cf6-f862-5980ed1bde08"
   },
   "outputs": [
    {
     "data": {
      "text/plain": [
       "{'batch_size': None,\n",
       " 'epochs': 2,\n",
       " 'steps': 2,\n",
       " 'samples': 2,\n",
       " 'verbose': 1,\n",
       " 'do_validation': True,\n",
       " 'metrics': ['loss',\n",
       "  'categorical_accuracy',\n",
       "  'acc',\n",
       "  'val_loss',\n",
       "  'val_categorical_accuracy',\n",
       "  'val_acc']}"
      ]
     },
     "execution_count": 23,
     "metadata": {},
     "output_type": "execute_result"
    }
   ],
   "source": [
    "history.params"
   ]
  },
  {
   "cell_type": "code",
   "execution_count": 24,
   "metadata": {
    "colab": {
     "base_uri": "https://localhost:8080/",
     "height": 70
    },
    "colab_type": "code",
    "id": "0z7_FWT_kgyZ",
    "outputId": "a19d62fa-09f5-41fa-a0ef-3e2ed4ec7adf"
   },
   "outputs": [
    {
     "name": "stdout",
     "output_type": "stream",
     "text": [
      "100/100 [==============================] - 5s 48ms/sample - loss: 3.8378 - categorical_accuracy: 0.0300 - acc: 0.0300\n",
      "Random approach accuracy:  0.02127659574468085\n",
      "Model accuracy:  0.029998656\n"
     ]
    }
   ],
   "source": [
    "evaluation = model.evaluate(image_test_data, image_test_labels,\n",
    "                            batch_size=batch_size)\n",
    "evaluation_metrics = dict(zip(model.metrics_names,evaluation))\n",
    "\n",
    "print(\"Random approach accuracy: \", 1/47)\n",
    "print(\"Model accuracy: \", evaluation_metrics['acc'])"
   ]
  },
  {
   "cell_type": "code",
   "execution_count": 30,
   "metadata": {
    "colab": {},
    "colab_type": "code",
    "id": "bFOuu225MEdm"
   },
   "outputs": [
    {
     "ename": "NameError",
     "evalue": "name 'model' is not defined",
     "output_type": "error",
     "traceback": [
      "\u001b[0;31m---------------------------------------------------------------------------\u001b[0m",
      "\u001b[0;31mNameError\u001b[0m                                 Traceback (most recent call last)",
      "\u001b[0;32m<ipython-input-30-a7ab210f85a1>\u001b[0m in \u001b[0;36m<module>\u001b[0;34m\u001b[0m\n\u001b[0;32m----> 1\u001b[0;31m \u001b[0;32mdel\u001b[0m \u001b[0mmodel\u001b[0m\u001b[0;34m\u001b[0m\u001b[0;34m\u001b[0m\u001b[0m\n\u001b[0m",
      "\u001b[0;31mNameError\u001b[0m: name 'model' is not defined"
     ]
    }
   ],
   "source": [
    "del model"
   ]
  },
  {
   "cell_type": "code",
   "execution_count": 26,
   "metadata": {
    "colab": {},
    "colab_type": "code",
    "id": "o3gNOOfx44It"
   },
   "outputs": [],
   "source": [
    "def fcn_downsample(input_height:int, input_width:int) -> keras.Model:\n",
    "    \"\"\"\n",
    "    Create a simple fcn model for semantic segmentation with 2 classes\n",
    "    \"\"\"\n",
    "    nr_of_labels = 47\n",
    "    model2 = keras.Sequential()\n",
    "    \n",
    "    \n",
    "    # (used to define input shape on the first layers)\n",
    "    model2.add(keras.layers.Layer(input_shape=(input_height , input_width, 1)))\n",
    "    \n",
    "    # add 3 convolutional layers with 3x3 filters\n",
    "    model2.add(keras.layers.Convolution2D(filters=64, kernel_size=3, strides=1, padding='valid', activation='relu'))\n",
    "    model2.add(keras.layers.Dropout(0.3))\n",
    "    model2.add(keras.layers.Convolution2D(filters=26, kernel_size=3, strides=1,  padding='valid', activation='relu'))\n",
    "    model2.add(keras.layers.Dropout(0.3))\n",
    "\n",
    "    model2.add(keras.layers.Convolution2D(filters=32, kernel_size=3, strides=1, padding='valid', activation='relu'))\n",
    "    \n",
    "    # go to logits which is the number of classes\n",
    "    model2.add(keras.layers.Convolution2D(filters=nr_of_labels, kernel_size=1,activation = None))\n",
    "    model2.add(keras.layers.MaxPooling2D(pool_size=(4, 4), strides=1, padding='valid', data_format=None))\n",
    "    \n",
    "    # reshape so that we have a sample for each pixel\n",
    "    model2.add(keras.layers.Reshape(target_shape=((input_height-6) * (input_width-6), nr_of_labels)))\n",
    "    \n",
    "    \n",
    "\n",
    "    \n",
    "    \n",
    "    # Softmax Activation\n",
    "    model2.add(keras.layers.Activation('softmax'))\n",
    "    \n",
    "    return model2"
   ]
  },
  {
   "cell_type": "code",
   "execution_count": 28,
   "metadata": {
    "colab": {
     "base_uri": "https://localhost:8080/",
     "height": 570
    },
    "colab_type": "code",
    "id": "gOhbPKQWBwMr",
    "outputId": "20d771a7-8aa3-46b6-a080-66e45b922701"
   },
   "outputs": [
    {
     "name": "stdout",
     "output_type": "stream",
     "text": [
      "_________________________________________________________________\n",
      "Layer (type)                 Output Shape              Param #   \n",
      "=================================================================\n",
      "layer_2 (Layer)              (None, 128, 128, 1)       0         \n",
      "_________________________________________________________________\n",
      "conv2d_8 (Conv2D)            (None, 126, 126, 64)      640       \n",
      "_________________________________________________________________\n",
      "dropout_2 (Dropout)          (None, 126, 126, 64)      0         \n",
      "_________________________________________________________________\n",
      "conv2d_9 (Conv2D)            (None, 124, 124, 26)      15002     \n",
      "_________________________________________________________________\n",
      "dropout_3 (Dropout)          (None, 124, 124, 26)      0         \n",
      "_________________________________________________________________\n",
      "conv2d_10 (Conv2D)           (None, 122, 122, 32)      7520      \n",
      "_________________________________________________________________\n",
      "conv2d_11 (Conv2D)           (None, 122, 122, 47)      1551      \n",
      "_________________________________________________________________\n",
      "max_pooling2d_1 (MaxPooling2 (None, 119, 119, 47)      0         \n",
      "_________________________________________________________________\n",
      "reshape_2 (Reshape)          (None, 14884, 47)         0         \n",
      "_________________________________________________________________\n",
      "activation_2 (Activation)    (None, 14884, 47)         0         \n",
      "=================================================================\n",
      "Total params: 24,713\n",
      "Trainable params: 24,713\n",
      "Non-trainable params: 0\n",
      "_________________________________________________________________\n"
     ]
    }
   ],
   "source": [
    "# code from 09-FCN for Semantic Segmentation-ML\n",
    "PATCH_HEIGHT = 128\n",
    "PATCH_WIDTH = 128\n",
    "BATCH_SIZE = 50\n",
    "EPOCHS = 2  ## very low\n",
    "STEPS_PER_EPOCHS = 2  ### very low\n",
    "model2 = fcn_downsample(PATCH_HEIGHT, PATCH_WIDTH)\n",
    "model2.summary()\n"
   ]
  },
  {
   "cell_type": "code",
   "execution_count": 29,
   "metadata": {
    "colab": {
     "base_uri": "https://localhost:8080/",
     "height": 442
    },
    "colab_type": "code",
    "id": "PMs4qymhJpCt",
    "outputId": "3624bbe4-c9c0-45b2-830f-43f9bbd05f35"
   },
   "outputs": [
    {
     "name": "stdout",
     "output_type": "stream",
     "text": [
      "Epoch 1/2\n"
     ]
    },
    {
     "ename": "InvalidArgumentError",
     "evalue": "Input to reshape is a tensor with 66556700 values, but the requested shape has 69954800\n\t [[{{node reshape_2/Reshape}}]]",
     "output_type": "error",
     "traceback": [
      "\u001b[0;31m---------------------------------------------------------------------------\u001b[0m",
      "\u001b[0;31mInvalidArgumentError\u001b[0m                      Traceback (most recent call last)",
      "\u001b[0;32m<ipython-input-29-0a75fa715746>\u001b[0m in \u001b[0;36m<module>\u001b[0;34m\u001b[0m\n\u001b[1;32m      9\u001b[0m         \u001b[0mshuffle\u001b[0m\u001b[0;34m=\u001b[0m\u001b[0;32mFalse\u001b[0m\u001b[0;34m,\u001b[0m\u001b[0;34m\u001b[0m\u001b[0;34m\u001b[0m\u001b[0m\n\u001b[1;32m     10\u001b[0m         \u001b[0mcallbacks\u001b[0m\u001b[0;34m=\u001b[0m\u001b[0;32mNone\u001b[0m\u001b[0;34m,\u001b[0m\u001b[0;34m\u001b[0m\u001b[0;34m\u001b[0m\u001b[0m\n\u001b[0;32m---> 11\u001b[0;31m     \u001b[0mvalidation_data\u001b[0m\u001b[0;34m=\u001b[0m\u001b[0;34m(\u001b[0m\u001b[0mimage_val_data\u001b[0m\u001b[0;34m,\u001b[0m \u001b[0mimage_val_labels\u001b[0m\u001b[0;34m)\u001b[0m\u001b[0;34m\u001b[0m\u001b[0;34m\u001b[0m\u001b[0m\n\u001b[0m\u001b[1;32m     12\u001b[0m \u001b[0;34m\u001b[0m\u001b[0m\n\u001b[1;32m     13\u001b[0m )\n",
      "\u001b[0;32m~/deepnexus/lib/python3.7/site-packages/tensorflow/python/keras/engine/training.py\u001b[0m in \u001b[0;36mfit_generator\u001b[0;34m(self, generator, steps_per_epoch, epochs, verbose, callbacks, validation_data, validation_steps, class_weight, max_queue_size, workers, use_multiprocessing, shuffle, initial_epoch)\u001b[0m\n\u001b[1;32m   1424\u001b[0m         \u001b[0muse_multiprocessing\u001b[0m\u001b[0;34m=\u001b[0m\u001b[0muse_multiprocessing\u001b[0m\u001b[0;34m,\u001b[0m\u001b[0;34m\u001b[0m\u001b[0;34m\u001b[0m\u001b[0m\n\u001b[1;32m   1425\u001b[0m         \u001b[0mshuffle\u001b[0m\u001b[0;34m=\u001b[0m\u001b[0mshuffle\u001b[0m\u001b[0;34m,\u001b[0m\u001b[0;34m\u001b[0m\u001b[0;34m\u001b[0m\u001b[0m\n\u001b[0;32m-> 1426\u001b[0;31m         initial_epoch=initial_epoch)\n\u001b[0m\u001b[1;32m   1427\u001b[0m \u001b[0;34m\u001b[0m\u001b[0m\n\u001b[1;32m   1428\u001b[0m   def evaluate_generator(self,\n",
      "\u001b[0;32m~/deepnexus/lib/python3.7/site-packages/tensorflow/python/keras/engine/training_generator.py\u001b[0m in \u001b[0;36mmodel_iteration\u001b[0;34m(model, data, steps_per_epoch, epochs, verbose, callbacks, validation_data, validation_steps, class_weight, max_queue_size, workers, use_multiprocessing, shuffle, initial_epoch, mode, batch_size, **kwargs)\u001b[0m\n\u001b[1;32m    189\u001b[0m       \u001b[0mprogbar\u001b[0m\u001b[0;34m.\u001b[0m\u001b[0mon_batch_begin\u001b[0m\u001b[0;34m(\u001b[0m\u001b[0mstep\u001b[0m\u001b[0;34m,\u001b[0m \u001b[0mbatch_logs\u001b[0m\u001b[0;34m)\u001b[0m\u001b[0;34m\u001b[0m\u001b[0;34m\u001b[0m\u001b[0m\n\u001b[1;32m    190\u001b[0m \u001b[0;34m\u001b[0m\u001b[0m\n\u001b[0;32m--> 191\u001b[0;31m       \u001b[0mbatch_outs\u001b[0m \u001b[0;34m=\u001b[0m \u001b[0mbatch_function\u001b[0m\u001b[0;34m(\u001b[0m\u001b[0;34m*\u001b[0m\u001b[0mbatch_data\u001b[0m\u001b[0;34m)\u001b[0m\u001b[0;34m\u001b[0m\u001b[0;34m\u001b[0m\u001b[0m\n\u001b[0m\u001b[1;32m    192\u001b[0m       \u001b[0;32mif\u001b[0m \u001b[0;32mnot\u001b[0m \u001b[0misinstance\u001b[0m\u001b[0;34m(\u001b[0m\u001b[0mbatch_outs\u001b[0m\u001b[0;34m,\u001b[0m \u001b[0mlist\u001b[0m\u001b[0;34m)\u001b[0m\u001b[0;34m:\u001b[0m\u001b[0;34m\u001b[0m\u001b[0;34m\u001b[0m\u001b[0m\n\u001b[1;32m    193\u001b[0m         \u001b[0mbatch_outs\u001b[0m \u001b[0;34m=\u001b[0m \u001b[0;34m[\u001b[0m\u001b[0mbatch_outs\u001b[0m\u001b[0;34m]\u001b[0m\u001b[0;34m\u001b[0m\u001b[0;34m\u001b[0m\u001b[0m\n",
      "\u001b[0;32m~/deepnexus/lib/python3.7/site-packages/tensorflow/python/keras/engine/training.py\u001b[0m in \u001b[0;36mtrain_on_batch\u001b[0;34m(self, x, y, sample_weight, class_weight, reset_metrics)\u001b[0m\n\u001b[1;32m   1189\u001b[0m       \u001b[0;32melse\u001b[0m\u001b[0;34m:\u001b[0m\u001b[0;34m\u001b[0m\u001b[0;34m\u001b[0m\u001b[0m\n\u001b[1;32m   1190\u001b[0m         \u001b[0mself\u001b[0m\u001b[0;34m.\u001b[0m\u001b[0m_make_fit_function\u001b[0m\u001b[0;34m(\u001b[0m\u001b[0;34m)\u001b[0m\u001b[0;34m\u001b[0m\u001b[0;34m\u001b[0m\u001b[0m\n\u001b[0;32m-> 1191\u001b[0;31m         \u001b[0moutputs\u001b[0m \u001b[0;34m=\u001b[0m \u001b[0mself\u001b[0m\u001b[0;34m.\u001b[0m\u001b[0m_fit_function\u001b[0m\u001b[0;34m(\u001b[0m\u001b[0mins\u001b[0m\u001b[0;34m)\u001b[0m  \u001b[0;31m# pylint: disable=not-callable\u001b[0m\u001b[0;34m\u001b[0m\u001b[0;34m\u001b[0m\u001b[0m\n\u001b[0m\u001b[1;32m   1192\u001b[0m \u001b[0;34m\u001b[0m\u001b[0m\n\u001b[1;32m   1193\u001b[0m     \u001b[0;32mif\u001b[0m \u001b[0mreset_metrics\u001b[0m\u001b[0;34m:\u001b[0m\u001b[0;34m\u001b[0m\u001b[0;34m\u001b[0m\u001b[0m\n",
      "\u001b[0;32m~/deepnexus/lib/python3.7/site-packages/tensorflow/python/keras/backend.py\u001b[0m in \u001b[0;36m__call__\u001b[0;34m(self, inputs)\u001b[0m\n\u001b[1;32m   3074\u001b[0m \u001b[0;34m\u001b[0m\u001b[0m\n\u001b[1;32m   3075\u001b[0m     fetched = self._callable_fn(*array_vals,\n\u001b[0;32m-> 3076\u001b[0;31m                                 run_metadata=self.run_metadata)\n\u001b[0m\u001b[1;32m   3077\u001b[0m     \u001b[0mself\u001b[0m\u001b[0;34m.\u001b[0m\u001b[0m_call_fetch_callbacks\u001b[0m\u001b[0;34m(\u001b[0m\u001b[0mfetched\u001b[0m\u001b[0;34m[\u001b[0m\u001b[0;34m-\u001b[0m\u001b[0mlen\u001b[0m\u001b[0;34m(\u001b[0m\u001b[0mself\u001b[0m\u001b[0;34m.\u001b[0m\u001b[0m_fetches\u001b[0m\u001b[0;34m)\u001b[0m\u001b[0;34m:\u001b[0m\u001b[0;34m]\u001b[0m\u001b[0;34m)\u001b[0m\u001b[0;34m\u001b[0m\u001b[0;34m\u001b[0m\u001b[0m\n\u001b[1;32m   3078\u001b[0m     return nest.pack_sequence_as(self._outputs_structure,\n",
      "\u001b[0;32m~/deepnexus/lib/python3.7/site-packages/tensorflow/python/client/session.py\u001b[0m in \u001b[0;36m__call__\u001b[0;34m(self, *args, **kwargs)\u001b[0m\n\u001b[1;32m   1437\u001b[0m           ret = tf_session.TF_SessionRunCallable(\n\u001b[1;32m   1438\u001b[0m               \u001b[0mself\u001b[0m\u001b[0;34m.\u001b[0m\u001b[0m_session\u001b[0m\u001b[0;34m.\u001b[0m\u001b[0m_session\u001b[0m\u001b[0;34m,\u001b[0m \u001b[0mself\u001b[0m\u001b[0;34m.\u001b[0m\u001b[0m_handle\u001b[0m\u001b[0;34m,\u001b[0m \u001b[0margs\u001b[0m\u001b[0;34m,\u001b[0m \u001b[0mstatus\u001b[0m\u001b[0;34m,\u001b[0m\u001b[0;34m\u001b[0m\u001b[0;34m\u001b[0m\u001b[0m\n\u001b[0;32m-> 1439\u001b[0;31m               run_metadata_ptr)\n\u001b[0m\u001b[1;32m   1440\u001b[0m         \u001b[0;32mif\u001b[0m \u001b[0mrun_metadata\u001b[0m\u001b[0;34m:\u001b[0m\u001b[0;34m\u001b[0m\u001b[0;34m\u001b[0m\u001b[0m\n\u001b[1;32m   1441\u001b[0m           \u001b[0mproto_data\u001b[0m \u001b[0;34m=\u001b[0m \u001b[0mtf_session\u001b[0m\u001b[0;34m.\u001b[0m\u001b[0mTF_GetBuffer\u001b[0m\u001b[0;34m(\u001b[0m\u001b[0mrun_metadata_ptr\u001b[0m\u001b[0;34m)\u001b[0m\u001b[0;34m\u001b[0m\u001b[0;34m\u001b[0m\u001b[0m\n",
      "\u001b[0;32m~/deepnexus/lib/python3.7/site-packages/tensorflow/python/framework/errors_impl.py\u001b[0m in \u001b[0;36m__exit__\u001b[0;34m(self, type_arg, value_arg, traceback_arg)\u001b[0m\n\u001b[1;32m    526\u001b[0m             \u001b[0;32mNone\u001b[0m\u001b[0;34m,\u001b[0m \u001b[0;32mNone\u001b[0m\u001b[0;34m,\u001b[0m\u001b[0;34m\u001b[0m\u001b[0;34m\u001b[0m\u001b[0m\n\u001b[1;32m    527\u001b[0m             \u001b[0mcompat\u001b[0m\u001b[0;34m.\u001b[0m\u001b[0mas_text\u001b[0m\u001b[0;34m(\u001b[0m\u001b[0mc_api\u001b[0m\u001b[0;34m.\u001b[0m\u001b[0mTF_Message\u001b[0m\u001b[0;34m(\u001b[0m\u001b[0mself\u001b[0m\u001b[0;34m.\u001b[0m\u001b[0mstatus\u001b[0m\u001b[0;34m.\u001b[0m\u001b[0mstatus\u001b[0m\u001b[0;34m)\u001b[0m\u001b[0;34m)\u001b[0m\u001b[0;34m,\u001b[0m\u001b[0;34m\u001b[0m\u001b[0;34m\u001b[0m\u001b[0m\n\u001b[0;32m--> 528\u001b[0;31m             c_api.TF_GetCode(self.status.status))\n\u001b[0m\u001b[1;32m    529\u001b[0m     \u001b[0;31m# Delete the underlying status object from memory otherwise it stays alive\u001b[0m\u001b[0;34m\u001b[0m\u001b[0;34m\u001b[0m\u001b[0;34m\u001b[0m\u001b[0m\n\u001b[1;32m    530\u001b[0m     \u001b[0;31m# as there is a reference to status from this from the traceback due to\u001b[0m\u001b[0;34m\u001b[0m\u001b[0;34m\u001b[0m\u001b[0;34m\u001b[0m\u001b[0m\n",
      "\u001b[0;31mInvalidArgumentError\u001b[0m: Input to reshape is a tensor with 66556700 values, but the requested shape has 69954800\n\t [[{{node reshape_2/Reshape}}]]"
     ]
    }
   ],
   "source": [
    "model2.compile(optimizer='adam', loss='categorical_crossentropy', metrics=['categorical_accuracy','accuracy'])\n",
    "# model.compile(optimizer='adam', loss='binary_crossentropy', metrics=['accuracy'])\n",
    "\n",
    "history_down = model2.fit_generator(\n",
    "        generator=batch_generator( BATCH_SIZE, PATCH_HEIGHT, PATCH_WIDTH),\n",
    "        epochs=EPOCHS,\n",
    "        verbose=1,\n",
    "        steps_per_epoch=STEPS_PER_EPOCHS,\n",
    "        shuffle=False,\n",
    "        callbacks=None,\n",
    "    validation_data=(image_val_data, image_val_labels)\n",
    "\n",
    ")"
   ]
  },
  {
   "cell_type": "code",
   "execution_count": null,
   "metadata": {
    "colab": {},
    "colab_type": "code",
    "id": "YqGAk1wR0gWf"
   },
   "outputs": [],
   "source": []
  }
 ],
 "metadata": {
  "accelerator": "GPU",
  "colab": {
   "collapsed_sections": [],
   "name": "PG_v2.3.ipynb",
   "provenance": [],
   "version": "0.3.2"
  },
  "kernelspec": {
   "display_name": "Python 3",
   "language": "python",
   "name": "python3"
  },
  "language_info": {
   "codemirror_mode": {
    "name": "ipython",
    "version": 3
   },
   "file_extension": ".py",
   "mimetype": "text/x-python",
   "name": "python",
   "nbconvert_exporter": "python",
   "pygments_lexer": "ipython3",
   "version": "3.8.5"
  }
 },
 "nbformat": 4,
 "nbformat_minor": 4
}
